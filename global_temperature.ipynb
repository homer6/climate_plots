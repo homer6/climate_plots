{
 "cells": [
  {
   "cell_type": "code",
   "execution_count": null,
   "metadata": {},
   "outputs": [],
   "source": [
    "import matplotlib.pyplot as plt\n",
    "import numpy as np\n",
    "import pandas as pd\n",
    "from scipy.stats import linregress\n"
   ]
  },
  {
   "cell_type": "code",
   "execution_count": null,
   "metadata": {},
   "outputs": [],
   "source": [
    "# Since we don't have the actual data, let's create some synthetic data to mimic the plot\n",
    "np.random.seed(0)  # for reproducibility\n",
    "\n",
    "# Generate a time series from 1940 to March 2024\n",
    "years = np.arange(1940, 2024)\n",
    "months = np.arange(1, 13)\n",
    "year_month = [(y, m) for y in years for m in months]\n",
    "\n",
    "# Truncate the last 9 months for 2024 (since it only goes until March)\n",
    "#year_month = year_month[:-9]\n",
    "\n",
    "# Create synthetic monthly temperature anomalies\n",
    "# Let's assume a linear trend with some noise\n",
    "slope = 0.01  # increase per year\n",
    "intercept = -0.4  # starting value in 1940\n",
    "trend = np.array([intercept + slope * year for year, _ in year_month])\n",
    "\n",
    "# Add some random noise to simulate monthly variation\n",
    "noise = np.random.normal(scale=0.1, size=len(trend))\n",
    "temperature_anomalies = trend + noise\n",
    "\n",
    "# Convert to DataFrame for ease of plotting\n",
    "data = pd.DataFrame({\n",
    "    'Year': [year for year, _ in year_month],\n",
    "    'Month': [month for _, month in year_month],\n",
    "    'Temperature_Anomaly': temperature_anomalies\n",
    "})\n",
    "\n",
    "# Perform linear regression\n",
    "slope, intercept, r_value, p_value, std_err = linregress(\n",
    "    data.index, data['Temperature_Anomaly']\n",
    ")\n",
    "\n",
    "# Create a line of best fit\n",
    "data['Best_Fit'] = intercept + slope * data.index\n",
    "\n",
    "# Now let's plot it\n",
    "plt.figure(figsize=(15, 10))\n",
    "plt.scatter(data['Year'], data['Temperature_Anomaly'], alpha=0.5, edgecolor='w', s=50)\n",
    "plt.plot(data['Year'], data['Best_Fit'], color='red', linewidth=2)\n",
    "\n",
    "# Setting the title and labels\n",
    "plt.title('Monthly Global Surface Temperature Anomalies: 1940- March, 2024\\nAbove 1850-1900 IPCC Pre-Industrial Baseline', fontsize=14)\n",
    "plt.xlabel('YEAR', fontsize=12)\n",
    "plt.ylabel('Anomaly in Degrees Celsius', fontsize=12)\n",
    "\n",
    "# Adding the source text at the bottom left\n",
    "plt.text(1940, -0.2, 'ERA5 Data: https://sites.ecmwf.int/data/climatepuse/data/series/era5_daily_series_2t_global.csv\\n@eliotjacobson', fontsize=8, color='white')\n",
    "\n",
    "# Show grid and set the style\n",
    "plt.grid(visible=True, which='major', color='w', linestyle='-', linewidth=0.5)\n",
    "plt.gca().set_facecolor('#003366')  # Navy blue background\n",
    "plt.show()"
   ]
  },
  {
   "cell_type": "code",
   "execution_count": null,
   "metadata": {},
   "outputs": [],
   "source": []
  }
 ],
 "metadata": {
  "language_info": {
   "name": "python"
  }
 },
 "nbformat": 4,
 "nbformat_minor": 2
}
